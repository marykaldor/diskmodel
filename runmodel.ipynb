{
 "cells": [
  {
   "cell_type": "code",
   "execution_count": 7,
   "id": "ec8a3253-f516-4862-99dc-118d1d1f08bf",
   "metadata": {},
   "outputs": [],
   "source": [
    "import os\n",
    "import numpy as np\n",
    "import matplotlib.pyplot as plt"
   ]
  },
  {
   "cell_type": "code",
   "execution_count": 5,
   "id": "fea7653a-64db-4000-aaf0-3f350f1a72a8",
   "metadata": {},
   "outputs": [
    {
     "name": "stdout",
     "output_type": "stream",
     "text": [
      "\n",
      "All 20 expected parameters retrieved from ellparfile.dat                     \n",
      "\n",
      "Wavelength scale constructed from input parameters\n",
      "Final range:  4665.0 -  5109.0 A, Step:   2.0 A,   223 pixels\n",
      "[requested range:  4665.0 -  5110.0 A]\n",
      "\n",
      "Done\n"
     ]
    },
    {
     "name": "stderr",
     "output_type": "stream",
     "text": [
      "Note: The following floating-point exceptions are signalling: IEEE_UNDERFLOW_FLAG IEEE_DENORMAL\n",
      "STOP >*< End of program rel_profile_wave!\n"
     ]
    }
   ],
   "source": [
    "os.system(\"./calc_ellprofile_wave_pkg.x\")\n",
    "print(\"Done\")"
   ]
  },
  {
   "cell_type": "code",
   "execution_count": 9,
   "id": "c91f77cb-e0ed-4973-982f-b3315cb5a7ca",
   "metadata": {},
   "outputs": [
    {
     "data": {
      "image/png": "[encoded data removed]",
      "text/plain": [
       "<Figure size 432x288 with 1 Axes>"
      ]
     },
     "metadata": {
      "needs_background": "light"
     },
     "output_type": "display_data"
    }
   ],
   "source": [
    "# Reading the file\n",
    "fig, ax = plt.subplots()\n",
    "wavelength = []\n",
    "flambda = []\n",
    "selected_lines = []\n",
    "f = open('ellmodel.dat')\n",
    "lines = f.readlines()\n",
    "\n",
    "# Gets rid of pound symbol lines\n",
    "for line in lines:\n",
    "    if line[0] == \"#\":\n",
    "        pass\n",
    "    else:\n",
    "        x, y = line.split()\n",
    "        y = y.strip(\"\\n\")\n",
    "        x = float(x)\n",
    "        y = float(y)\n",
    "        wavelength.append(x)\n",
    "        flambda.append(y)\n",
    "\n",
    "plt.plot(wavelength, flambda)\n",
    "plt.show()"
   ]
  },
  {
   "cell_type": "code",
   "execution_count": null,
   "id": "cd81bf7d-db62-4cac-b08c-8c6580fbddd5",
   "metadata": {},
   "outputs": [],
   "source": []
  }
 ],
 "metadata": {
  "kernelspec": {
   "display_name": "Python [conda env:astro8070] *",
   "language": "python",
   "name": "conda-env-astro8070-py"
  },
  "language_info": {
   "codemirror_mode": {
    "name": "ipython",
    "version": 3
   },
   "file_extension": ".py",
   "mimetype": "text/x-python",
   "name": "python",
   "nbconvert_exporter": "python",
   "pygments_lexer": "ipython3",
   "version": "3.10.16"
  }
 },
 "nbformat": 4,
 "nbformat_minor": 5
}
