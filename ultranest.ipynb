{
 "cells": [
  {
   "cell_type": "markdown",
   "id": "7b0ef4ae-b3af-43f1-b583-3b031b9a9823",
   "metadata": {},
   "source": [
    "MEK: Import block"
   ]
  },
  {
   "cell_type": "code",
   "execution_count": 1,
   "id": "f31f0238-7cb1-4ef2-b1fc-ac3ae8b99736",
   "metadata": {},
   "outputs": [
    {
     "name": "stdout",
     "output_type": "stream",
     "text": [
      "Optional mpi4py package is not installed.  MPI support is not available.\n"
     ]
    }
   ],
   "source": [
    "import numpy as np\n",
    "import astropy\n",
    "import scipy\n",
    "import matplotlib.pyplot as plt\n",
    "import emcee\n",
    "from PTMCMCSampler.PTMCMCSampler import PTSampler as ptmcmc\n",
    "import pymc\n",
    "import corner.corner as corner\n",
    "import astroML\n",
    "import sklearn\n",
    "import os\n",
    "import time\n",
    "import ultranest\n",
    "import math"
   ]
  },
  {
   "cell_type": "markdown",
   "id": "f7ddaff7-00d0-4170-94be-019ee4752f87",
   "metadata": {},
   "source": [
    "MEK: Collect data from pyspeckit fits"
   ]
  },
  {
   "cell_type": "code",
   "execution_count": 2,
   "id": "773cf028-3738-472b-a7d3-000edf791d83",
   "metadata": {},
   "outputs": [],
   "source": [
    "data = np.load(\"/home/kaldorme/classes/astr_8070_s25/coursework/student_folders/marykaldor/spectral_decomp/fit_uncert/56449.npy\")\n",
    "w = data[0]\n",
    "fl = data[1]\n",
    "uncert = data[2]"
   ]
  },
  {
   "cell_type": "code",
   "execution_count": 47,
   "id": "63f4fce4-4379-46ae-a916-dd85fc4b7cbe",
   "metadata": {},
   "outputs": [],
   "source": [
    "def disk(values):\n",
    "    params = ['Q1',\\\n",
    "          #'Q2',\\\n",
    "          #'XIB',\\\n",
    "          'ANGI',\\\n",
    "          'XI1',\\\n",
    "          'XI2']\n",
    "          #'BROAD']\n",
    "          #'T0',\\\n",
    "          #'ETA',\\\n",
    "          #'ANGLAM',\\\n",
    "          #'AMP',\\\n",
    "          #'NARMS',\\\n",
    "          #'AOBS',\\\n",
    "          #'PITCH',\\\n",
    "          #'WIDTH']\n",
    "          #'XISPIN',\\\n",
    "          #'XISPOUT']\n",
    "    # MEK Convert log values back into scalar, make add XI1 to XI2 to find outer radius\n",
    "    values[2] = 10**float(values[2])\n",
    "    values[3] = 10**float(values[3])\n",
    "    values[3] = float(values[2])+float(values[3])\n",
    "    #values[5] = float(values[4])+float(values[5])\n",
    "    \n",
    "    # Open old file in read mode and create new file in write mode\n",
    "    fin = open(\"./parfile_original.dat\", \"r\")\n",
    "    fout = open(\"./parfile.dat\", \"w\")\n",
    "\n",
    "    # Setting up list iterations\n",
    "    i = 0\n",
    "\n",
    "    # Setting up range over which to iterate\n",
    "    j = 0\n",
    "    k = len(values)-1\n",
    "\n",
    "    # Go through text and only change given parameter's value\n",
    "    # Everything else just gets rewritten to the new file\n",
    "    while j<k:\n",
    "        for line in fin:\n",
    "            if params[j] in line:\n",
    "                x = line.split()\n",
    "                if params[j] == x[1]:\n",
    "                    if j==11:\n",
    "                        # Forcing to write the number of spiral arms in the disk as an integer\n",
    "                        fout.write(line.replace(x[0], str(int(values[j]))))\n",
    "                    else:\n",
    "                        fout.write(line.replace(x[0], str(values[j])))\n",
    "                    if params[j] == params[-1]:\n",
    "                        pass\n",
    "                    else:\n",
    "                        j += 1\n",
    "                else:\n",
    "                    fout.write(line)\n",
    "            else:\n",
    "                fout.write(line)\n",
    "    \n",
    "    fin.close()\n",
    "    fout.close()\n",
    "\n",
    "    # Generate BEL profile\n",
    "    os.system(\"./calc_profile_wave_pkg.x\")\n",
    "    wavelength = []\n",
    "    flambda = []\n",
    "    f = open('model.dat')\n",
    "    lines = f.readlines()\n",
    "\n",
    "    # Gets rid of pound symbol lines\n",
    "    for line in lines:\n",
    "        if line[0] == \"#\":\n",
    "            pass\n",
    "        else:\n",
    "            x, y = line.split()\n",
    "            y = y.strip(\"\\n\")\n",
    "            x = float(x)\n",
    "            y = float(y)\n",
    "            wavelength.append(x)\n",
    "            flambda.append(y)\n",
    "\n",
    "    wavelength = np.array(wavelength)\n",
    "    flambda = np.array(flambda)\n",
    "\n",
    "    # Plot\n",
    "    plt.figure(figsize=(16,12))\n",
    "    plt.errorbar(w, fl, abs(uncert), capsize=10, label=\"Initial\", linewidth=2)\n",
    "    plt.plot(wavelength, flambda, label=\"Fit\", linewidth=5)\n",
    "    plt.legend(fontsize=30)\n",
    "    plt.xlabel(\"Wavelength ($\\AA$)\", fontsize=30)\n",
    "    plt.ylabel(\"Flux (Normalized)\", fontsize=30)\n",
    "    plt.xticks(fontsize=30)\n",
    "    plt.yticks(fontsize=30)\n",
    "    plt.savefig(\"./56449.png\")\n",
    "    plt.show()\n",
    "    \n",
    "    return wavelength, flambda\n",
    "\n",
    "# compute the data log-likelihood given a model\n",
    "def logL(values, model=disk):\n",
    "    #if values[4]>values[5]:\n",
    "        #loglike = -np.inf\n",
    "    y_fit = model(values)[1]\n",
    "    y = fl\n",
    "    u = abs(uncert)\n",
    "    loglike = sum(scipy.stats.norm.logpdf(*args) for args in zip(y_fit, y, u))\n",
    "    return loglike"
   ]
  },
  {
   "cell_type": "code",
   "execution_count": 48,
   "id": "f2f72dab-6307-49b7-b356-e08bbbd83962",
   "metadata": {},
   "outputs": [],
   "source": [
    "params_nostring = ['Q1',\\\n",
    "          #'Q2',\\\n",
    "          #'XIB',\\\n",
    "          'ANGI',\\\n",
    "          'XI1',\\\n",
    "          'XI2']\n",
    "          #'BROAD']\n",
    "          #'T0',\\\n",
    "          #'ETA',\\\n",
    "          #'ANGLAM',\\\n",
    "          #'AMP',\\\n",
    "          #'NARMS',\\\n",
    "          #'AOBS',\\\n",
    "          #'PITCH',\\\n",
    "          #'WIDTH']\n",
    "          #'XISPIN',\\\n",
    "          #'XISPOUT']\n",
    "\n",
    "values_nostring = ['2.0',\\\n",
    "          #'0.8',\\\n",
    "          #'1000',\\\n",
    "          '19.80',\\\n",
    "          '2.0',\\\n",
    "          '3.81']\n",
    "          #'1100']\n",
    "          #'1e-7',\\\n",
    "          #'0.',\\\n",
    "          #'15',\\\n",
    "          #'4',\\\n",
    "          #'1',\\\n",
    "          #'124',\\\n",
    "          #'60',\\\n",
    "          #'62']\n",
    "          #'0',\\\n",
    "          #'0']"
   ]
  },
  {
   "cell_type": "code",
   "execution_count": 49,
   "id": "7215bdf1-7775-4409-8f9b-01fc39c271d3",
   "metadata": {},
   "outputs": [
    {
     "name": "stdout",
     "output_type": "stream",
     "text": [
      "\n",
      "All 29 expected parameters retrieved from parfile.dat                        \n",
      "\n",
      " NOTE: XIB > XI2. Will default to q = Q1 throughout the disk.\n",
      "\n",
      " NOTE: XISPIN = 0 or < XI1. Reseting XISPIN = XI1.\n",
      "\n",
      " NOTE: XISPOUT = 0 or > XI2. Reseting XISPOUT = XI2.\n",
      "\n",
      "Wavelength scale constructed from input parameters\n",
      "Final range:  4665.0 -  5109.8 A, Step:   1.1 A,   396 pixels\n",
      "[requested range:  4665.0 -  5110.0 A]\n",
      "\n"
     ]
    },
    {
     "name": "stderr",
     "output_type": "stream",
     "text": [
      "Note: The following floating-point exceptions are signalling: IEEE_UNDERFLOW_FLAG IEEE_DENORMAL\n",
      "STOP >*< End of program rel_profile_wave!\n"
     ]
    },
    {
     "data": {
      "image/png": "[encoded data removed]",
      "text/plain": [
       "<Figure size 1152x864 with 1 Axes>"
      ]
     },
     "metadata": {
      "needs_background": "light"
     },
     "output_type": "display_data"
    }
   ],
   "source": [
    "initial_w, initial_fl = disk(values_nostring)"
   ]
  },
  {
   "cell_type": "markdown",
   "id": "14a86bee-b28a-46f3-9d8b-624d3db7435d",
   "metadata": {},
   "source": [
    "MEK: Establish prior hypercube"
   ]
  },
  {
   "cell_type": "code",
   "execution_count": null,
   "id": "5b154dca-a72f-4b58-a727-4ae716875d92",
   "metadata": {},
   "outputs": [],
   "source": [
    "def my_prior_transform(cube):\n",
    "    params = cube.copy()\n",
    "    \n",
    "    # Q1 uniform prior\n",
    "    lo = 1.0\n",
    "    hi = 2.0\n",
    "    params[0] = cube[0] * (hi - lo) + lo\n",
    "\n",
    "    # Q2 uniform prior\n",
    "    #lo = 1.0\n",
    "    #hi = 2.0\n",
    "    #params[1] = cube[1] * (hi - lo) + lo\n",
    "\n",
    "    # XIB uniform prior\n",
    "    #lo = 1000\n",
    "    #hi = 1050\n",
    "    #params[2] = cube[2] * (hi - lo) + lo\n",
    "    \n",
    "    # ANGI uniform prior\n",
    "    lo = 10.\n",
    "    hi = 30.\n",
    "    params[1] = cube[1] * (hi - lo) + lo\n",
    "\n",
    "    # XI1 uniform prior\n",
    "    lo = 2\n",
    "    hi = 4\n",
    "    params[2] = cube[2] * (hi - lo) + lo\n",
    "    \n",
    "    # XI2 uniform prior\n",
    "    #lo = 100\n",
    "    #hi = 20000\n",
    "    #params[5] = cube[5] * (hi - lo) + lo\n",
    "\n",
    "    # DELTA_XI uniform prior\n",
    "    lo = 2.\n",
    "    hi = 4.\n",
    "    params[3] = cube[3] * (hi - lo) + lo\n",
    "\n",
    "    # BROAD uniform prior\n",
    "    #lo = 100.\n",
    "    #hi = 2000.\n",
    "    #params[6] = cube[6] * (hi - lo) + lo\n",
    "    \n",
    "    # T0 uniform prior\n",
    "    #lo = 0.\n",
    "    #hi = 0.001\n",
    "    #params[7] = cube[7] * (hi - lo) + lo\n",
    "\n",
    "    # ETA uniform prior\n",
    "    #lo = -0.1\n",
    "    #hi = 1.\n",
    "    #params[8] = cube[8] * (hi - lo) + lo\n",
    "\n",
    "    # ANGLAM uniform prior\n",
    "    #lo = 0.\n",
    "    #hi = 90.\n",
    "    #params[9] = cube[9] * (hi - lo) + lo\n",
    "\n",
    "    # AMP uniform prior\n",
    "    #lo = 0.\n",
    "    #hi = 10.\n",
    "    #params[10] = cube[10] * (hi - lo) + lo\n",
    "\n",
    "    # NARMS uniform prior\n",
    "    #lo = 0\n",
    "    #hi = 10\n",
    "    #params[11] = cube[11] * (hi - lo) + lo\n",
    "\n",
    "    # AOBS uniform prior\n",
    "    #lo = -360.\n",
    "    #hi = 360.\n",
    "    #params[12] = cube[12] * (hi - lo) + lo\n",
    "\n",
    "    # PITCH uniform prior\n",
    "    #lo = -90.\n",
    "    #hi = 90.\n",
    "    #params[13] = cube[13] * (hi - lo) + lo\n",
    "\n",
    "    # WIDTH uniform prior\n",
    "    #lo = 0.\n",
    "    #hi = 90.\n",
    "    #params[14] = cube[14] * (hi - lo) + lo\n",
    "\n",
    "    # XISPIN uniform prior\n",
    "    #lo = 100\n",
    "    #hi = 20000\n",
    "    #params[15] = cube[15] * (hi - lo) + lo\n",
    "\n",
    "    # XISPOUT uniform prior\n",
    "    #lo = 100\n",
    "    #hi = 20000\n",
    "    #params[16] = cube[16] * (hi - lo) + lo\n",
    "\n",
    "    return params"
   ]
  },
  {
   "cell_type": "markdown",
   "id": "1eec2bf4-7b98-4eba-9c2d-7e69c61ece38",
   "metadata": {},
   "source": [
    "MEK: Initialize sampler"
   ]
  },
  {
   "cell_type": "code",
   "execution_count": null,
   "id": "3a4c377c-7576-4e6a-9150-a463df772ee3",
   "metadata": {},
   "outputs": [],
   "source": [
    "sampler = ultranest.ReactiveNestedSampler(params_nostring, logL, my_prior_transform)"
   ]
  },
  {
   "cell_type": "markdown",
   "id": "feb8d0c9-b31c-49dd-997b-d79b1ed6b0b5",
   "metadata": {},
   "source": [
    "MEK: Pick 600 live points, run sampler"
   ]
  },
  {
   "cell_type": "code",
   "execution_count": null,
   "id": "652f5f14-7f05-435a-98eb-f96fcedd707e",
   "metadata": {},
   "outputs": [],
   "source": [
    "result = sampler.run(min_num_live_points=600)\n",
    "sampler.print_results()"
   ]
  },
  {
   "cell_type": "markdown",
   "id": "deaa9507-5277-43da-920f-55561db65219",
   "metadata": {},
   "source": [
    "MEK: Plot the final fit"
   ]
  },
  {
   "cell_type": "code",
   "execution_count": null,
   "id": "8321f777-2d9e-4873-91bb-877d487b13e8",
   "metadata": {},
   "outputs": [],
   "source": [
    "ultranest_final_params = sampler.results['posterior']['mean']\n",
    "plot = disk(ultranest_final_params)"
   ]
  },
  {
   "cell_type": "code",
   "execution_count": null,
   "id": "a3c6aa9c-d8aa-432f-9011-f95e86776213",
   "metadata": {},
   "outputs": [],
   "source": [
    "MEK: Visualize corner plot"
   ]
  },
  {
   "cell_type": "code",
   "execution_count": null,
   "id": "55098c55-e20f-4dd9-8614-26cf964a537b",
   "metadata": {},
   "outputs": [],
   "source": [
    "from ultranest.plot import cornerplot\n",
    "fig = cornerplot(result)\n",
    "fig.savefig(\"./56449_corner.png\")"
   ]
  },
  {
   "cell_type": "markdown",
   "id": "6f390fc0-a892-4da4-99c4-d65b1d11a38e",
   "metadata": {},
   "source": [
    "MEK: Grab log evidence and calculate Bayes factor"
   ]
  },
  {
   "cell_type": "code",
   "execution_count": null,
   "id": "70844997-e005-4f3b-882d-53d5366924e4",
   "metadata": {},
   "outputs": [],
   "source": [
    "#logz_wind = result['logz']\n",
    "#logz_wind"
   ]
  },
  {
   "cell_type": "code",
   "execution_count": null,
   "id": "ae6a9175-42e7-4a6c-8704-6c205d9590d0",
   "metadata": {},
   "outputs": [],
   "source": [
    "#logz_nowind = result['logz']\n",
    "#logz_nowind"
   ]
  },
  {
   "cell_type": "code",
   "execution_count": null,
   "id": "4e38cbd6-59f6-42ea-a3b5-15788227e67c",
   "metadata": {},
   "outputs": [],
   "source": [
    "#bayes = np.exp(logz_wind-logz_nowind)\n",
    "#bayes"
   ]
  }
 ],
 "metadata": {
  "kernelspec": {
   "display_name": "Python [conda env:astro8070] *",
   "language": "python",
   "name": "conda-env-astro8070-py"
  },
  "language_info": {
   "codemirror_mode": {
    "name": "ipython",
    "version": 3
   },
   "file_extension": ".py",
   "mimetype": "text/x-python",
   "name": "python",
   "nbconvert_exporter": "python",
   "pygments_lexer": "ipython3",
   "version": "3.10.16"
  }
 },
 "nbformat": 4,
 "nbformat_minor": 5
}
